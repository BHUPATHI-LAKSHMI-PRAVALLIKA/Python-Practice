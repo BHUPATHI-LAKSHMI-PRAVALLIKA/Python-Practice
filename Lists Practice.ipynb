{
 "cells": [
  {
   "cell_type": "code",
   "execution_count": 3,
   "id": "c64f58bb-892c-4b42-8b6c-7a73f5eb04fd",
   "metadata": {},
   "outputs": [],
   "source": [
    "#creating lists using different data types\n",
    "mylist = ['apple','banana','carrots']\n",
    "newlist = [1,2,3,4,5]\n",
    "list = [ False, True]\n",
    "finalist = ['apple',2,True]"
   ]
  },
  {
   "cell_type": "code",
   "execution_count": 7,
   "id": "8e1ef340-16f2-4fdc-bee8-3f1f05bf0b96",
   "metadata": {},
   "outputs": [
    {
     "name": "stdout",
     "output_type": "stream",
     "text": [
      "['ant', 'bat', 'cat', 'ant']\n"
     ]
    }
   ],
   "source": [
    "#list allows duplicate values\n",
    "duplicatelist = ['ant','bat','cat','ant']\n",
    "print(duplicatelist)"
   ]
  },
  {
   "cell_type": "code",
   "execution_count": 11,
   "id": "81dc92c3-4df6-4821-b7b6-7361935322ff",
   "metadata": {},
   "outputs": [
    {
     "name": "stdout",
     "output_type": "stream",
     "text": [
      "4\n"
     ]
    }
   ],
   "source": [
    "#length of a list\n",
    "#length of a list always counts from 1\n",
    "thelist = ['pravallika','is',23,True]\n",
    "print(len(thelist))"
   ]
  },
  {
   "cell_type": "code",
   "execution_count": 15,
   "id": "c42cacc1-a556-47af-b102-221e740210db",
   "metadata": {},
   "outputs": [
    {
     "name": "stdout",
     "output_type": "stream",
     "text": [
      "ant\n",
      "cat\n"
     ]
    }
   ],
   "source": [
    "#access list items\n",
    "list = ['ant','bat','cat']\n",
    "print(list[0])\n",
    "print(list[-1])"
   ]
  },
  {
   "cell_type": "code",
   "execution_count": 23,
   "id": "f741dc39-fa95-4ad3-af45-a2ca81505f86",
   "metadata": {},
   "outputs": [
    {
     "name": "stdout",
     "output_type": "stream",
     "text": [
      "['cherry', 'orange', 'kiwi']\n",
      "['apple', 'banana', 'cherry', 'orange']\n",
      "['cherry', 'orange', 'kiwi', 'melon', 'mango']\n",
      "['orange', 'kiwi', 'melon']\n"
     ]
    }
   ],
   "source": [
    "#Range of indexes\n",
    "thislist = ['apple','banana','cherry','orange','kiwi','melon','mango']\n",
    "print(thislist[2:5])\n",
    "print(thislist[:4])\n",
    "print(thislist[2:])\n",
    "print(thislist[-4:-1])"
   ]
  },
  {
   "cell_type": "code",
   "execution_count": 29,
   "id": "5f4e454b-605c-4478-9c83-7597c62b7140",
   "metadata": {},
   "outputs": [
    {
     "name": "stdout",
     "output_type": "stream",
     "text": [
      "yes\n"
     ]
    }
   ],
   "source": [
    "#in keyword:To determine if a specified item is present in a list.\n",
    "list = ['a','b','c']\n",
    "if 'a' in list:\n",
    "    print('yes')\n",
    "else:\n",
    "    print('no')"
   ]
  },
  {
   "cell_type": "code",
   "execution_count": 43,
   "id": "ed59eb17-cf8b-4c6c-a3b4-befa316fd809",
   "metadata": {},
   "outputs": [
    {
     "name": "stdout",
     "output_type": "stream",
     "text": [
      "['ant', 'rat', 'cat']\n",
      "['pant', 'fat', 'cat']\n",
      "['pant', 'pot', 'art', 'cat']\n",
      "['pant', 'party']\n"
     ]
    }
   ],
   "source": [
    "#Changing list items:\n",
    "thislist = ['ant','bat','cat']\n",
    "thislist[1] = 'rat'\n",
    "print(thislist)\n",
    "thislist[0:2] = 'pant','fat'\n",
    "print(thislist)\n",
    "thislist[1:2] = 'pot','art'\n",
    "print(thislist)\n",
    "thislist[1:4] = ['party']\n",
    "print(thislist)"
   ]
  },
  {
   "cell_type": "code",
   "execution_count": 49,
   "id": "64bf31b9-13f1-4d99-9a17-f88a21e62de7",
   "metadata": {},
   "outputs": [
    {
     "name": "stdout",
     "output_type": "stream",
     "text": [
      "['king', 'queen', 'spy', 'joker']\n"
     ]
    }
   ],
   "source": [
    "#insert() method inserts an item at the specified index:\n",
    "list = ['king','queen','joker']\n",
    "list.insert(2,'spy')\n",
    "print(list)"
   ]
  },
  {
   "cell_type": "code",
   "execution_count": 53,
   "id": "17e81b2f-8b74-44ee-a58c-50a918349a48",
   "metadata": {},
   "outputs": [
    {
     "name": "stdout",
     "output_type": "stream",
     "text": [
      "['mad', 'bad', 'dad', 'pad']\n"
     ]
    }
   ],
   "source": [
    "#adding items into a list:\n",
    "#To add an item to the end of the list, use the append() method:\n",
    "a = ['mad','bad','dad']\n",
    "a.append('pad')\n",
    "print(a)"
   ]
  },
  {
   "cell_type": "code",
   "execution_count": 55,
   "id": "677674f4-1085-4460-95e4-c549710b27a9",
   "metadata": {},
   "outputs": [
    {
     "name": "stdout",
     "output_type": "stream",
     "text": [
      "['arun', 'balu', 'chinnu', 'rani', 'vani', 'mani']\n"
     ]
    }
   ],
   "source": [
    "#extend() method : To append elements from another list to the current list.\n",
    "b = ['arun','balu','chinnu']\n",
    "c= ['rani','vani','mani']\n",
    "b.extend(c)\n",
    "print(b)"
   ]
  },
  {
   "cell_type": "code",
   "execution_count": 59,
   "id": "8129ca71-83c5-42df-bf8a-101d62f96c30",
   "metadata": {},
   "outputs": [
    {
     "name": "stdout",
     "output_type": "stream",
     "text": [
      "['deep', 'dance']\n"
     ]
    }
   ],
   "source": [
    "#remove(): The remove() method removes the specified item.\n",
    "d = ['data','deep','dance']\n",
    "d.remove('data')\n",
    "print(d)"
   ]
  },
  {
   "cell_type": "code",
   "execution_count": 63,
   "id": "881cfcd9-06b9-4d32-83a8-414e28f91dd7",
   "metadata": {},
   "outputs": [
    {
     "name": "stdout",
     "output_type": "stream",
     "text": [
      "['deep', 'dance', 'data']\n"
     ]
    }
   ],
   "source": [
    "#If there are more than one item with the specified value, \n",
    "#the remove() method removes the first occurrence\n",
    "f = ['data','deep','dance','data']\n",
    "f.remove('data')\n",
    "print(f)"
   ]
  },
  {
   "cell_type": "code",
   "execution_count": 69,
   "id": "90162abe-ee2d-41f5-8b39-17791e3acb1a",
   "metadata": {},
   "outputs": [
    {
     "name": "stdout",
     "output_type": "stream",
     "text": [
      "['hen', 'hat']\n",
      "['hen']\n"
     ]
    }
   ],
   "source": [
    "#pop(): The pop() method removes the specified index.\n",
    "h = ['hen','hat','hot']\n",
    "h.pop(2)\n",
    "print(h)\n",
    "#If you do not specify the index, the pop() method removes the last item.\n",
    "h.pop()\n",
    "print(h)"
   ]
  },
  {
   "cell_type": "code",
   "execution_count": 87,
   "id": "ec0d8198-8968-4ec2-9ddc-97b76892a9f4",
   "metadata": {},
   "outputs": [
    {
     "name": "stdout",
     "output_type": "stream",
     "text": [
      "['hen', 'hot']\n"
     ]
    }
   ],
   "source": [
    "#del keyword: The del keyword also removes the specified index:\n",
    "e = ['hen','hat','hot']\n",
    "del e[1]\n",
    "print(e)"
   ]
  },
  {
   "cell_type": "code",
   "execution_count": 89,
   "id": "933569c4-1755-4e9b-b35a-a1b5964e3c27",
   "metadata": {},
   "outputs": [
    {
     "ename": "NameError",
     "evalue": "name 'j' is not defined",
     "output_type": "error",
     "traceback": [
      "\u001b[1;31m---------------------------------------------------------------------------\u001b[0m",
      "\u001b[1;31mNameError\u001b[0m                                 Traceback (most recent call last)",
      "Cell \u001b[1;32mIn[89], line 4\u001b[0m\n\u001b[0;32m      2\u001b[0m j \u001b[38;5;241m=\u001b[39m [\u001b[38;5;124m'\u001b[39m\u001b[38;5;124mhen\u001b[39m\u001b[38;5;124m'\u001b[39m,\u001b[38;5;124m'\u001b[39m\u001b[38;5;124mhat\u001b[39m\u001b[38;5;124m'\u001b[39m,\u001b[38;5;124m'\u001b[39m\u001b[38;5;124mhot\u001b[39m\u001b[38;5;124m'\u001b[39m]\n\u001b[0;32m      3\u001b[0m \u001b[38;5;28;01mdel\u001b[39;00m j\n\u001b[1;32m----> 4\u001b[0m \u001b[38;5;28mprint\u001b[39m(j)\n",
      "\u001b[1;31mNameError\u001b[0m: name 'j' is not defined"
     ]
    }
   ],
   "source": [
    "#The del keyword can also delete the list completely.\n",
    "j = ['hen','hat','hot']\n",
    "del j\n",
    "print(j)"
   ]
  },
  {
   "cell_type": "code",
   "execution_count": 91,
   "id": "c469c0cd-cfb9-47d6-8c71-f69ab80f096b",
   "metadata": {},
   "outputs": [
    {
     "name": "stdout",
     "output_type": "stream",
     "text": [
      "[]\n"
     ]
    }
   ],
   "source": [
    "#The clear() method empties the list.\n",
    "#The list still remains, but it has no content.\n",
    "o = ['hen','hat','hot']\n",
    "o.clear()\n",
    "print(o)"
   ]
  },
  {
   "cell_type": "code",
   "execution_count": 95,
   "id": "c4a472b7-3a39-4d0d-b965-8e39f2daba1d",
   "metadata": {},
   "outputs": [
    {
     "name": "stdout",
     "output_type": "stream",
     "text": [
      "and\n",
      "amy\n",
      "andy\n"
     ]
    }
   ],
   "source": [
    "#Loop through list:\n",
    "# using for loop: Print all items in the list, one by one:\n",
    "a = ['and','amy','andy']\n",
    "for x in a:\n",
    "    print(x)"
   ]
  },
  {
   "cell_type": "code",
   "execution_count": 97,
   "id": "04a55b13-65d5-4b41-ae35-f273aa709321",
   "metadata": {},
   "outputs": [
    {
     "name": "stdout",
     "output_type": "stream",
     "text": [
      "ant\n",
      "fat\n",
      "cot\n"
     ]
    }
   ],
   "source": [
    "#You can also loop through the list items by referring to their index number.\n",
    "#Use the range() and len() functions to create a suitable iterable.\n",
    "my = ['ant','fat','cot']\n",
    "for i in range(len(my)):\n",
    "    print(my[i])"
   ]
  },
  {
   "cell_type": "code",
   "execution_count": 99,
   "id": "9ce394d5-c6cd-42a9-8760-9f818e2030ea",
   "metadata": {},
   "outputs": [
    {
     "name": "stdout",
     "output_type": "stream",
     "text": [
      "mad\n",
      "mop\n",
      "mud\n"
     ]
    }
   ],
   "source": [
    "#using while loop:Use the len() function to determine the length of the list, then start at 0 and loop your way through the \n",
    "#list items by referring to their indexes.\n",
    "#Remember to increase the index by 1 after each iteration.\n",
    "thislist = ['mad','mop','mud']\n",
    "i=0\n",
    "while i<len(thislist):\n",
    "    print(thislist[i])\n",
    "    i=i+1"
   ]
  },
  {
   "cell_type": "code",
   "execution_count": 105,
   "id": "f195315e-322d-4d98-85f0-20ba134e8f52",
   "metadata": {},
   "outputs": [
    {
     "name": "stdout",
     "output_type": "stream",
     "text": [
      "name\n",
      "age\n",
      "dob\n"
     ]
    },
    {
     "data": {
      "text/plain": [
       "[None, None, None]"
      ]
     },
     "execution_count": 105,
     "metadata": {},
     "output_type": "execute_result"
    }
   ],
   "source": [
    "#using list comprehension\n",
    "mylists = ['name','age','dob']\n",
    "[print (x) for x in mylists]"
   ]
  },
  {
   "cell_type": "code",
   "execution_count": 107,
   "id": "a5221d14-1573-4353-975a-fde8650c4648",
   "metadata": {},
   "outputs": [
    {
     "name": "stdout",
     "output_type": "stream",
     "text": [
      "['ant', 'bat', 'yolk', 'zebra']\n"
     ]
    }
   ],
   "source": [
    "#sort lists:List objects have a sort() method that will sort the list alphanumerically, ascending, by default:\n",
    "mylist = ['zebra','ant','yolk','bat']\n",
    "mylist.sort()\n",
    "print(mylist)"
   ]
  },
  {
   "cell_type": "code",
   "execution_count": 109,
   "id": "fd92363d-ec79-452a-baa1-a7c5a12178f3",
   "metadata": {},
   "outputs": [
    {
     "name": "stdout",
     "output_type": "stream",
     "text": [
      "[1, 12, 20, 50, 100]\n"
     ]
    }
   ],
   "source": [
    "num = [100,50,1,20,12]\n",
    "num.sort()\n",
    "print(num)"
   ]
  },
  {
   "cell_type": "code",
   "execution_count": 111,
   "id": "72cfb89b-b677-4b80-9038-42f6f4ce818b",
   "metadata": {},
   "outputs": [
    {
     "name": "stdout",
     "output_type": "stream",
     "text": [
      "['zebra', 'yolk', 'bat', 'ant']\n"
     ]
    }
   ],
   "source": [
    "#Sort descending:\n",
    "mylisst = ['zebra','ant','yolk','bat']\n",
    "mylisst.sort(reverse=True)\n",
    "print(mylisst)"
   ]
  },
  {
   "cell_type": "code",
   "execution_count": 113,
   "id": "4d4d0bb1-a96d-4f76-8018-bd917827e082",
   "metadata": {},
   "outputs": [
    {
     "name": "stdout",
     "output_type": "stream",
     "text": [
      "['Kiwi', 'Lamp', 'band', 'lion']\n"
     ]
    }
   ],
   "source": [
    "#Case insensitive sort:\n",
    "l=['lion','Lamp','Kiwi','band']\n",
    "l.sort()\n",
    "print(l)"
   ]
  },
  {
   "cell_type": "code",
   "execution_count": 115,
   "id": "f743a8de-806c-4f8e-9e54-6a9988b3eee4",
   "metadata": {},
   "outputs": [
    {
     "name": "stdout",
     "output_type": "stream",
     "text": [
      "['band', 'Kiwi', 'Lamp', 'lion']\n"
     ]
    }
   ],
   "source": [
    "l=['lion','Lamp','Kiwi','band']\n",
    "l.sort(key = str.lower)\n",
    "print(l)"
   ]
  },
  {
   "cell_type": "code",
   "execution_count": 117,
   "id": "2b6c4d1f-d82a-4cef-a528-50ec65edc7d1",
   "metadata": {},
   "outputs": [
    {
     "name": "stdout",
     "output_type": "stream",
     "text": [
      "['band', 'Kiwi', 'Lamp', 'lion']\n"
     ]
    }
   ],
   "source": [
    "#Reverse order:\n",
    "l=['lion','Lamp','Kiwi','band']\n",
    "l.reverse()\n",
    "print(l)"
   ]
  },
  {
   "cell_type": "code",
   "execution_count": 119,
   "id": "ce2a8373-269f-402d-a3e4-e11bf025394c",
   "metadata": {},
   "outputs": [
    {
     "name": "stdout",
     "output_type": "stream",
     "text": [
      "['apple', 'banana', 'cherry']\n"
     ]
    }
   ],
   "source": [
    "#Copy lists:\n",
    "#1) copy() method:You can use the built-in List method copy() to copy a list.\n",
    "thislist = [\"apple\", \"banana\", \"cherry\"]\n",
    "mylist = thislist.copy()\n",
    "print(mylist)"
   ]
  },
  {
   "cell_type": "code",
   "execution_count": 123,
   "id": "d7e3494c-5891-453a-b40e-e51d65c7eb62",
   "metadata": {},
   "outputs": [],
   "source": [
    "#2) list() method:"
   ]
  },
  {
   "cell_type": "code",
   "execution_count": 125,
   "id": "94cfbed5-14f9-4ef6-abc6-e741f38b693e",
   "metadata": {},
   "outputs": [
    {
     "name": "stdout",
     "output_type": "stream",
     "text": [
      "['apple', 'banana', 'cherry']\n"
     ]
    }
   ],
   "source": [
    "#3) slice operator:\n",
    "thislist = [\"apple\", \"banana\", \"cherry\"]\n",
    "mylist = thislist[:]\n",
    "print(mylist)"
   ]
  },
  {
   "cell_type": "code",
   "execution_count": 129,
   "id": "44ea73bf-02e3-4abe-ab56-ea4e9e78ddb2",
   "metadata": {},
   "outputs": [
    {
     "name": "stdout",
     "output_type": "stream",
     "text": [
      "['a', 'b', 'c', 1, 2, 3]\n"
     ]
    }
   ],
   "source": [
    "#join lists:\n",
    "list1 = [\"a\", \"b\", \"c\"]\n",
    "list2 = [1, 2, 3]\n",
    "list3 = list1 + list2\n",
    "print(list3)"
   ]
  },
  {
   "cell_type": "code",
   "execution_count": 141,
   "id": "82ed7a4a-daaf-4da5-a0d8-1edab7b721ef",
   "metadata": {},
   "outputs": [
    {
     "name": "stdout",
     "output_type": "stream",
     "text": [
      "['a', 'b', 'c', 1, 2, 3]\n"
     ]
    }
   ],
   "source": [
    "#Using append():\n",
    "list1 = [\"a\", \"b\" , \"c\"]\n",
    "list2 = [1, 2, 3]\n",
    "for x in list2:\n",
    "    list1.append(x)\n",
    "print(list1)\n",
    "    \n"
   ]
  },
  {
   "cell_type": "code",
   "execution_count": 137,
   "id": "60f15164-f491-4051-936a-0af4cf9c9d07",
   "metadata": {},
   "outputs": [
    {
     "name": "stdout",
     "output_type": "stream",
     "text": [
      "['a', 'b', 'c', 1, 2, 3]\n"
     ]
    }
   ],
   "source": [
    "#Using extend\n",
    "list1 = [\"a\", \"b\" , \"c\"]\n",
    "list2 = [1, 2, 3]\n",
    "\n",
    "list1.extend(list2)\n",
    "print(list1)"
   ]
  },
  {
   "cell_type": "code",
   "execution_count": null,
   "id": "fd5ec43c-2edc-418b-b3ef-c08ae4726b84",
   "metadata": {},
   "outputs": [],
   "source": []
  }
 ],
 "metadata": {
  "kernelspec": {
   "display_name": "Python 3 (ipykernel)",
   "language": "python",
   "name": "python3"
  },
  "language_info": {
   "codemirror_mode": {
    "name": "ipython",
    "version": 3
   },
   "file_extension": ".py",
   "mimetype": "text/x-python",
   "name": "python",
   "nbconvert_exporter": "python",
   "pygments_lexer": "ipython3",
   "version": "3.11.7"
  }
 },
 "nbformat": 4,
 "nbformat_minor": 5
}

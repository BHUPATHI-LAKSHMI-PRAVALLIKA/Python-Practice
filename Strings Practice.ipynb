{
 "cells": [
  {
   "cell_type": "code",
   "execution_count": 11,
   "id": "d68c8faa-48d4-4323-afd4-36d0bee954f4",
   "metadata": {},
   "outputs": [],
   "source": [
    "fruits = 'oranges'"
   ]
  },
  {
   "cell_type": "code",
   "execution_count": 5,
   "id": "c17a743e-7288-4ebf-a51e-974cba35ae30",
   "metadata": {},
   "outputs": [
    {
     "data": {
      "text/plain": [
       "'oranges'"
      ]
     },
     "execution_count": 5,
     "metadata": {},
     "output_type": "execute_result"
    }
   ],
   "source": [
    "fruits"
   ]
  },
  {
   "cell_type": "code",
   "execution_count": 9,
   "id": "92a8e4a1-d917-44a0-86e8-f395e42b2434",
   "metadata": {},
   "outputs": [
    {
     "name": "stdout",
     "output_type": "stream",
     "text": [
      "oranges\n"
     ]
    }
   ],
   "source": [
    "fruits = 'oranges'\n",
    "print(fruits)"
   ]
  },
  {
   "cell_type": "code",
   "execution_count": 1,
   "id": "80e9d6c0-4ae8-4d1d-a73a-46e0bfada20a",
   "metadata": {},
   "outputs": [
    {
     "name": "stdout",
     "output_type": "stream",
     "text": [
      "hello\n",
      "world\n"
     ]
    }
   ],
   "source": [
    "print('hello\\nworld')"
   ]
  },
  {
   "cell_type": "code",
   "execution_count": 3,
   "id": "ed70c74d-bb9b-4334-aec2-6af91220d31c",
   "metadata": {},
   "outputs": [
    {
     "name": "stdout",
     "output_type": "stream",
     "text": [
      "hello \tworld\n"
     ]
    }
   ],
   "source": [
    "print('hello \\tworld')"
   ]
  },
  {
   "cell_type": "code",
   "execution_count": 5,
   "id": "e9c4ae29-8a60-4daa-a421-8f8351266b26",
   "metadata": {},
   "outputs": [
    {
     "data": {
      "text/plain": [
       "11"
      ]
     },
     "execution_count": 5,
     "metadata": {},
     "output_type": "execute_result"
    }
   ],
   "source": [
    "len('hello mommy')"
   ]
  },
  {
   "cell_type": "code",
   "execution_count": 7,
   "id": "8da35411-d3ba-4e87-b4c7-4b686c7de173",
   "metadata": {},
   "outputs": [
    {
     "data": {
      "text/plain": [
       "5"
      ]
     },
     "execution_count": 7,
     "metadata": {},
     "output_type": "execute_result"
    }
   ],
   "source": [
    "len('hello')"
   ]
  },
  {
   "cell_type": "code",
   "execution_count": 25,
   "id": "8e65cdcd-92d4-4b04-9204-0c7fa3e903d6",
   "metadata": {},
   "outputs": [
    {
     "name": "stdout",
     "output_type": "stream",
     "text": [
      "d\n",
      "9\n"
     ]
    }
   ],
   "source": [
    "x='hyderabad'\n",
    "#string indexing\n",
    "print(x[8])\n",
    "#length of a string\n",
    "print(len(x))"
   ]
  },
  {
   "cell_type": "code",
   "execution_count": 101,
   "id": "3cfd9484-ce35-4e58-a396-fde21a8a46b1",
   "metadata": {},
   "outputs": [
    {
     "name": "stdout",
     "output_type": "stream",
     "text": [
      "hi python\n"
     ]
    }
   ],
   "source": [
    "#string concatenation\n",
    "x='hi'\n",
    "y='python'\n",
    "res= x+\" \"+y\n",
    "print(res)\n"
   ]
  },
  {
   "cell_type": "code",
   "execution_count": 35,
   "id": "048565d6-aaea-4fea-9b5d-9bbead6c397d",
   "metadata": {},
   "outputs": [
    {
     "name": "stdout",
     "output_type": "stream",
     "text": [
      "usausausa\n"
     ]
    }
   ],
   "source": [
    "#repeated string\n",
    "str = 'usa' * 3\n",
    "print(str)"
   ]
  },
  {
   "cell_type": "code",
   "execution_count": 115,
   "id": "677e7f72-176b-490e-b838-c127fa14ee18",
   "metadata": {},
   "outputs": [
    {
     "name": "stdout",
     "output_type": "stream",
     "text": [
      "o y\n",
      "y\n"
     ]
    }
   ],
   "source": [
    "#indexing\n",
    "str1 = 'mommy'\n",
    "first_char = str1[1]\n",
    "last_char = str1[-1]\n",
    "print(first_char,last_char)\n",
    "print(last_char)"
   ]
  },
  {
   "cell_type": "code",
   "execution_count": 45,
   "id": "525045e1-d203-4f62-80b0-aee716a7c6a9",
   "metadata": {},
   "outputs": [
    {
     "data": {
      "text/plain": [
       "'ompu'"
      ]
     },
     "execution_count": 45,
     "metadata": {},
     "output_type": "execute_result"
    }
   ],
   "source": [
    "#slicing [star:stop:step]\n",
    "y='computer'\n",
    "y[1:5]"
   ]
  },
  {
   "cell_type": "code",
   "execution_count": 47,
   "id": "1de52be2-92ed-40b0-ba63-be7f6b952c8e",
   "metadata": {},
   "outputs": [
    {
     "data": {
      "text/plain": [
       "'m'"
      ]
     },
     "execution_count": 47,
     "metadata": {},
     "output_type": "execute_result"
    }
   ],
   "source": [
    "y[2]"
   ]
  },
  {
   "cell_type": "code",
   "execution_count": 49,
   "id": "236e0860-6d4e-4b31-b731-952e465f54a3",
   "metadata": {},
   "outputs": [
    {
     "data": {
      "text/plain": [
       "'compu'"
      ]
     },
     "execution_count": 49,
     "metadata": {},
     "output_type": "execute_result"
    }
   ],
   "source": [
    "y[:5]"
   ]
  },
  {
   "cell_type": "code",
   "execution_count": 51,
   "id": "ee88dc69-a8b4-42de-bdd0-8f1a3534944b",
   "metadata": {},
   "outputs": [
    {
     "data": {
      "text/plain": [
       "'uter'"
      ]
     },
     "execution_count": 51,
     "metadata": {},
     "output_type": "execute_result"
    }
   ],
   "source": [
    "y[4:]"
   ]
  },
  {
   "cell_type": "code",
   "execution_count": 53,
   "id": "faac3e84-1c9d-447e-82e7-d5f8e7d693aa",
   "metadata": {},
   "outputs": [
    {
     "data": {
      "text/plain": [
       "'r'"
      ]
     },
     "execution_count": 53,
     "metadata": {},
     "output_type": "execute_result"
    }
   ],
   "source": [
    "y[-1]"
   ]
  },
  {
   "cell_type": "code",
   "execution_count": 65,
   "id": "6753ed07-bc8b-4e5a-ba08-7d7fe420b523",
   "metadata": {},
   "outputs": [
    {
     "data": {
      "text/plain": [
       "'te'"
      ]
     },
     "execution_count": 65,
     "metadata": {},
     "output_type": "execute_result"
    }
   ],
   "source": [
    "y[-3:-1]"
   ]
  },
  {
   "cell_type": "code",
   "execution_count": 67,
   "id": "4b714628-a899-47cb-937f-0dee15a5858a",
   "metadata": {},
   "outputs": [
    {
     "data": {
      "text/plain": [
       "'r'"
      ]
     },
     "execution_count": 67,
     "metadata": {},
     "output_type": "execute_result"
    }
   ],
   "source": [
    "y[-1:]"
   ]
  },
  {
   "cell_type": "code",
   "execution_count": 119,
   "id": "b1057579-cca9-45ad-9e79-169224a6886e",
   "metadata": {},
   "outputs": [
    {
     "data": {
      "text/plain": [
       "'pytho'"
      ]
     },
     "execution_count": 119,
     "metadata": {},
     "output_type": "execute_result"
    }
   ],
   "source": [
    "y[:-1]"
   ]
  },
  {
   "cell_type": "code",
   "execution_count": 71,
   "id": "8666997f-50bd-48df-9f6b-b8ebb25c6aff",
   "metadata": {},
   "outputs": [],
   "source": [
    "#STRING METHODS\n",
    "#1)lower()\n",
    "#2)upper()\n",
    "#3)strip()\n",
    "#4)split()\n",
    "#5)replace()\n",
    "#6)find()"
   ]
  },
  {
   "cell_type": "code",
   "execution_count": 81,
   "id": "32660a77-7845-4fad-8429-66cfca8f7f8e",
   "metadata": {},
   "outputs": [
    {
     "data": {
      "text/plain": [
       "'hungry'"
      ]
     },
     "execution_count": 81,
     "metadata": {},
     "output_type": "execute_result"
    }
   ],
   "source": [
    "#lower()\n",
    "a = 'HUngry'\n",
    "a.lower()"
   ]
  },
  {
   "cell_type": "code",
   "execution_count": 83,
   "id": "d11e01b3-c935-479b-8d0e-16d7ef0348b7",
   "metadata": {},
   "outputs": [
    {
     "data": {
      "text/plain": [
       "'PRAVALLIKA'"
      ]
     },
     "execution_count": 83,
     "metadata": {},
     "output_type": "execute_result"
    }
   ],
   "source": [
    "#upper()\n",
    "b = 'pravallika'\n",
    "b.upper()"
   ]
  },
  {
   "cell_type": "code",
   "execution_count": 85,
   "id": "36c6ca01-4c35-4cd8-b1f4-8e34dcafa9fd",
   "metadata": {},
   "outputs": [
    {
     "data": {
      "text/plain": [
       "'hello'"
      ]
     },
     "execution_count": 85,
     "metadata": {},
     "output_type": "execute_result"
    }
   ],
   "source": [
    "#strip(): Removes leading and trailing whitespace.\n",
    "c = '    hello     '\n",
    "c.strip()"
   ]
  },
  {
   "cell_type": "code",
   "execution_count": 87,
   "id": "3a0117b5-f829-447d-bed6-c141425b99d3",
   "metadata": {},
   "outputs": [
    {
     "data": {
      "text/plain": [
       "['i', 'am', 'happy', 'now']"
      ]
     },
     "execution_count": 87,
     "metadata": {},
     "output_type": "execute_result"
    }
   ],
   "source": [
    "#split():Splits the string into a list based on a delimiter.\n",
    "d = 'i am happy now'\n",
    "d.split()"
   ]
  },
  {
   "cell_type": "code",
   "execution_count": 91,
   "id": "027fa909-fad9-45bb-9f7b-4e402b4d963e",
   "metadata": {},
   "outputs": [
    {
     "data": {
      "text/plain": [
       "'happy us'"
      ]
     },
     "execution_count": 91,
     "metadata": {},
     "output_type": "execute_result"
    }
   ],
   "source": [
    "#replace():Replaces a substring with another substring\n",
    "z = 'happy me'\n",
    "z.replace('me','us')"
   ]
  },
  {
   "cell_type": "code",
   "execution_count": 99,
   "id": "d6ca578e-87c1-4d3d-be31-a64783bb3e9e",
   "metadata": {},
   "outputs": [
    {
     "data": {
      "text/plain": [
       "4"
      ]
     },
     "execution_count": 99,
     "metadata": {},
     "output_type": "execute_result"
    }
   ],
   "source": [
    "#find():Returns the index of the first occurrence of a substring.\n",
    "y = 'you live only once'\n",
    "y.find('live')"
   ]
  },
  {
   "cell_type": "code",
   "execution_count": 113,
   "id": "4ebfe36c-9ee4-40e7-ac5a-9707e9f596ba",
   "metadata": {},
   "outputs": [
    {
     "name": "stdout",
     "output_type": "stream",
     "text": [
      "apple tree\n"
     ]
    }
   ],
   "source": [
    "a = 'apple'\n",
    "b = ' tree'\n",
    "print(a+b)\n"
   ]
  },
  {
   "cell_type": "code",
   "execution_count": 129,
   "id": "47a5b74e-3960-4cc9-af60-08c2aa68b74e",
   "metadata": {},
   "outputs": [
    {
     "data": {
      "text/plain": [
       "'retupmoc'"
      ]
     },
     "execution_count": 129,
     "metadata": {},
     "output_type": "execute_result"
    }
   ],
   "source": [
    "f='computer'\n",
    "f[::-1]"
   ]
  },
  {
   "cell_type": "code",
   "execution_count": 133,
   "id": "5fb9bf06-9d00-4a39-9952-a6fd607455fe",
   "metadata": {},
   "outputs": [
    {
     "name": "stdout",
     "output_type": "stream",
     "text": [
      "My name is rani and I am 32 years old.\n"
     ]
    }
   ],
   "source": [
    "#using formatted strings formatted string literals.\n",
    "name = 'rani'\n",
    "age = 32\n",
    "res = f'My name is {name} and I am {age} years old.'\n",
    "print(res)"
   ]
  },
  {
   "cell_type": "code",
   "execution_count": 141,
   "id": "dceba12a-c3c4-4520-ab14-a1078c955c32",
   "metadata": {},
   "outputs": [
    {
     "name": "stdout",
     "output_type": "stream",
     "text": [
      "My name is rani and I am 32 years old.\n"
     ]
    }
   ],
   "source": [
    "#format method\n",
    "name = 'rani'\n",
    "age = 32\n",
    "res = 'My name is {} and I am {} years old.'.format(name,age)\n",
    "print(res)"
   ]
  },
  {
   "cell_type": "code",
   "execution_count": 143,
   "id": "305d6fe8-40de-4199-b2d2-d2aa1a1594dd",
   "metadata": {},
   "outputs": [
    {
     "name": "stdout",
     "output_type": "stream",
     "text": [
      "My name is rani and I am 32 years old.\n"
     ]
    }
   ],
   "source": [
    "#% operator\n",
    "res = 'My name is %s and I am %d years old.'%(name,age)\n",
    "print(res)"
   ]
  },
  {
   "cell_type": "code",
   "execution_count": null,
   "id": "9eb5915c-c873-4889-bb94-b34eab2b16b2",
   "metadata": {},
   "outputs": [],
   "source": []
  }
 ],
 "metadata": {
  "kernelspec": {
   "display_name": "Python 3 (ipykernel)",
   "language": "python",
   "name": "python3"
  },
  "language_info": {
   "codemirror_mode": {
    "name": "ipython",
    "version": 3
   },
   "file_extension": ".py",
   "mimetype": "text/x-python",
   "name": "python",
   "nbconvert_exporter": "python",
   "pygments_lexer": "ipython3",
   "version": "3.11.7"
  }
 },
 "nbformat": 4,
 "nbformat_minor": 5
}

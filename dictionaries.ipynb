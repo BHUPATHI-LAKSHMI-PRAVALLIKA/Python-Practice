{
 "cells": [
  {
   "cell_type": "code",
   "execution_count": 1,
   "id": "c41f9c7d-63f9-4575-88bc-561f9cde7579",
   "metadata": {},
   "outputs": [],
   "source": [
    "my_dict={'key1':'value1','key2':'value2'}"
   ]
  },
  {
   "cell_type": "code",
   "execution_count": 3,
   "id": "8ab70557-e8da-4ad4-9faa-21d99d979a72",
   "metadata": {},
   "outputs": [
    {
     "data": {
      "text/plain": [
       "{'key1': 'value1', 'key2': 'value2'}"
      ]
     },
     "execution_count": 3,
     "metadata": {},
     "output_type": "execute_result"
    }
   ],
   "source": [
    "my_dict"
   ]
  },
  {
   "cell_type": "code",
   "execution_count": 5,
   "id": "9f9b3f03-549e-49e6-a5a9-b1cbcd74f4e0",
   "metadata": {},
   "outputs": [
    {
     "data": {
      "text/plain": [
       "'value1'"
      ]
     },
     "execution_count": 5,
     "metadata": {},
     "output_type": "execute_result"
    }
   ],
   "source": [
    "my_dict['key1']"
   ]
  },
  {
   "cell_type": "code",
   "execution_count": 7,
   "id": "855e3734-6eaf-464c-8d95-1925b4660a28",
   "metadata": {},
   "outputs": [],
   "source": [
    "prices_lookup={'apple':2.99,'oranges':1.99,'milk':5.89}"
   ]
  },
  {
   "cell_type": "code",
   "execution_count": 9,
   "id": "f9da5d38-11b1-48a0-b041-3a21c549b84f",
   "metadata": {},
   "outputs": [
    {
     "data": {
      "text/plain": [
       "2.99"
      ]
     },
     "execution_count": 9,
     "metadata": {},
     "output_type": "execute_result"
    }
   ],
   "source": [
    "prices_lookup['apple']"
   ]
  },
  {
   "cell_type": "code",
   "execution_count": 11,
   "id": "ed8d6a2b-8279-49b2-89e2-75142b795ad9",
   "metadata": {},
   "outputs": [],
   "source": [
    "d={'k1':123,'k2':[0,1,2],'k3':{'insideKey':100}}"
   ]
  },
  {
   "cell_type": "code",
   "execution_count": 21,
   "id": "94964a73-b2d8-4a37-a2f6-74a1fdc9af15",
   "metadata": {},
   "outputs": [
    {
     "data": {
      "text/plain": [
       "2"
      ]
     },
     "execution_count": 21,
     "metadata": {},
     "output_type": "execute_result"
    }
   ],
   "source": [
    "d['k2'][2]"
   ]
  },
  {
   "cell_type": "code",
   "execution_count": 19,
   "id": "da7bb257-3001-4fbd-92c9-a5625bfd8f5a",
   "metadata": {},
   "outputs": [
    {
     "data": {
      "text/plain": [
       "100"
      ]
     },
     "execution_count": 19,
     "metadata": {},
     "output_type": "execute_result"
    }
   ],
   "source": [
    "d['k3']['insideKey']"
   ]
  },
  {
   "cell_type": "code",
   "execution_count": 23,
   "id": "bf369b2c-70d0-4c6d-97b5-7651c7161ffd",
   "metadata": {},
   "outputs": [],
   "source": [
    "d= {'key1':['a','b','c']}"
   ]
  },
  {
   "cell_type": "code",
   "execution_count": 50,
   "id": "99e9fa63-a8df-47c4-92ec-c5426cb37329",
   "metadata": {},
   "outputs": [
    {
     "data": {
      "text/plain": [
       "['a', 'b', 'c']"
      ]
     },
     "execution_count": 50,
     "metadata": {},
     "output_type": "execute_result"
    }
   ],
   "source": [
    "d['key1']"
   ]
  },
  {
   "cell_type": "code",
   "execution_count": 46,
   "id": "d8b36678-04c1-4c4a-8250-95f5d513ffeb",
   "metadata": {},
   "outputs": [
    {
     "data": {
      "text/plain": [
       "{'key1': ['a', 'b', 'c']}"
      ]
     },
     "execution_count": 46,
     "metadata": {},
     "output_type": "execute_result"
    }
   ],
   "source": [
    "d"
   ]
  },
  {
   "cell_type": "code",
   "execution_count": 29,
   "id": "4552126f-954d-416b-b437-748cdd863ebb",
   "metadata": {},
   "outputs": [],
   "source": [
    "my_list=d['key1']"
   ]
  },
  {
   "cell_type": "code",
   "execution_count": 32,
   "id": "e6fcedef-59a7-4d3c-bdac-7bd1be8d0327",
   "metadata": {},
   "outputs": [
    {
     "data": {
      "text/plain": [
       "['a', 'b', 'c']"
      ]
     },
     "execution_count": 32,
     "metadata": {},
     "output_type": "execute_result"
    }
   ],
   "source": [
    "my_list"
   ]
  },
  {
   "cell_type": "code",
   "execution_count": 36,
   "id": "69f9ceaf-b484-4da9-8ea5-f17679b9b47f",
   "metadata": {},
   "outputs": [],
   "source": [
    "letter=my_list[2]"
   ]
  },
  {
   "cell_type": "code",
   "execution_count": 38,
   "id": "b50b3173-bd1b-4452-a662-67bbf661b819",
   "metadata": {},
   "outputs": [
    {
     "data": {
      "text/plain": [
       "'c'"
      ]
     },
     "execution_count": 38,
     "metadata": {},
     "output_type": "execute_result"
    }
   ],
   "source": [
    "letter"
   ]
  },
  {
   "cell_type": "code",
   "execution_count": 40,
   "id": "197ced99-6fa3-4f20-b33b-fb5f47128dc2",
   "metadata": {},
   "outputs": [
    {
     "data": {
      "text/plain": [
       "'C'"
      ]
     },
     "execution_count": 40,
     "metadata": {},
     "output_type": "execute_result"
    }
   ],
   "source": [
    "letter.upper()"
   ]
  },
  {
   "cell_type": "code",
   "execution_count": 54,
   "id": "f88fa772-ba9b-447a-9780-596c73c2d2d5",
   "metadata": {},
   "outputs": [
    {
     "data": {
      "text/plain": [
       "'C'"
      ]
     },
     "execution_count": 54,
     "metadata": {},
     "output_type": "execute_result"
    }
   ],
   "source": [
    "d['key1'][2].upper()"
   ]
  },
  {
   "cell_type": "code",
   "execution_count": 56,
   "id": "ed7dc788-e3b8-4610-9b5e-c20260aaee51",
   "metadata": {},
   "outputs": [],
   "source": [
    "d={'k1':100,'k2':200}"
   ]
  },
  {
   "cell_type": "code",
   "execution_count": 58,
   "id": "68831c6c-2402-4219-be58-f765d078847c",
   "metadata": {},
   "outputs": [
    {
     "data": {
      "text/plain": [
       "{'k1': 100, 'k2': 200}"
      ]
     },
     "execution_count": 58,
     "metadata": {},
     "output_type": "execute_result"
    }
   ],
   "source": [
    "d"
   ]
  },
  {
   "cell_type": "code",
   "execution_count": 60,
   "id": "98ba4e4f-9f41-4b85-b57c-4eb29715d968",
   "metadata": {},
   "outputs": [],
   "source": [
    "d['k3']=300"
   ]
  },
  {
   "cell_type": "code",
   "execution_count": 62,
   "id": "7ed5a43e-f9b9-427e-8637-b580e6cad7a7",
   "metadata": {},
   "outputs": [
    {
     "data": {
      "text/plain": [
       "{'k1': 100, 'k2': 200, 'k3': 300}"
      ]
     },
     "execution_count": 62,
     "metadata": {},
     "output_type": "execute_result"
    }
   ],
   "source": [
    "d"
   ]
  },
  {
   "cell_type": "code",
   "execution_count": 64,
   "id": "c9ed3fbc-4928-492f-9184-450925db8a9a",
   "metadata": {},
   "outputs": [],
   "source": [
    "d['k1']='NEW value'"
   ]
  },
  {
   "cell_type": "code",
   "execution_count": 66,
   "id": "fe380b6d-0b7e-4827-9a6f-6c3a556185ec",
   "metadata": {},
   "outputs": [
    {
     "data": {
      "text/plain": [
       "{'k1': 'NEW value', 'k2': 200, 'k3': 300}"
      ]
     },
     "execution_count": 66,
     "metadata": {},
     "output_type": "execute_result"
    }
   ],
   "source": [
    "d"
   ]
  },
  {
   "cell_type": "code",
   "execution_count": 68,
   "id": "3cdad993-c862-4a21-8ad4-a9514d8e934f",
   "metadata": {},
   "outputs": [],
   "source": [
    "d={'k1': 100, 'k2': 200, 'k3': 300}"
   ]
  },
  {
   "cell_type": "code",
   "execution_count": 70,
   "id": "56878034-7014-4515-931b-41acf6086770",
   "metadata": {},
   "outputs": [
    {
     "data": {
      "text/plain": [
       "dict_keys(['k1', 'k2', 'k3'])"
      ]
     },
     "execution_count": 70,
     "metadata": {},
     "output_type": "execute_result"
    }
   ],
   "source": [
    "d.keys()"
   ]
  },
  {
   "cell_type": "code",
   "execution_count": 72,
   "id": "487911b3-c4bf-4b8d-a1b4-f3cc239085df",
   "metadata": {},
   "outputs": [
    {
     "data": {
      "text/plain": [
       "dict_values([100, 200, 300])"
      ]
     },
     "execution_count": 72,
     "metadata": {},
     "output_type": "execute_result"
    }
   ],
   "source": [
    "d.values()"
   ]
  },
  {
   "cell_type": "code",
   "execution_count": 74,
   "id": "85c2a0f3-a5e9-4075-9512-ce2a542427ca",
   "metadata": {},
   "outputs": [
    {
     "data": {
      "text/plain": [
       "dict_items([('k1', 100), ('k2', 200), ('k3', 300)])"
      ]
     },
     "execution_count": 74,
     "metadata": {},
     "output_type": "execute_result"
    }
   ],
   "source": [
    "d.items()"
   ]
  },
  {
   "cell_type": "code",
   "execution_count": 76,
   "id": "cd5c6c3a-d667-4b69-8556-56e58a5c3810",
   "metadata": {},
   "outputs": [],
   "source": [
    "person={'name':'rani','age':40,'grades':[30,89,56]}"
   ]
  },
  {
   "cell_type": "code",
   "execution_count": 78,
   "id": "82d1a18f-6b75-4cd9-bd6e-690bf1ac5b06",
   "metadata": {},
   "outputs": [
    {
     "data": {
      "text/plain": [
       "{'name': 'rani', 'age': 40, 'grades': [30, 89, 56]}"
      ]
     },
     "execution_count": 78,
     "metadata": {},
     "output_type": "execute_result"
    }
   ],
   "source": [
    "person"
   ]
  },
  {
   "cell_type": "code",
   "execution_count": 80,
   "id": "a83f679a-a55d-40aa-ace3-087588f85a80",
   "metadata": {},
   "outputs": [],
   "source": [
    "person['email']='rani@'"
   ]
  },
  {
   "cell_type": "code",
   "execution_count": 82,
   "id": "b842260b-506b-40ed-b963-35c58f1c67c9",
   "metadata": {},
   "outputs": [
    {
     "data": {
      "text/plain": [
       "{'name': 'rani', 'age': 40, 'grades': [30, 89, 56], 'email': 'rani@'}"
      ]
     },
     "execution_count": 82,
     "metadata": {},
     "output_type": "execute_result"
    }
   ],
   "source": [
    "person"
   ]
  },
  {
   "cell_type": "code",
   "execution_count": 84,
   "id": "d3e0ad99-a13f-4d2c-af67-49e9225c05df",
   "metadata": {},
   "outputs": [
    {
     "data": {
      "text/plain": [
       "'rani@'"
      ]
     },
     "execution_count": 84,
     "metadata": {},
     "output_type": "execute_result"
    }
   ],
   "source": [
    "person.pop('email')"
   ]
  },
  {
   "cell_type": "code",
   "execution_count": 88,
   "id": "69955f0b-cec7-4294-835e-3e10142709b0",
   "metadata": {},
   "outputs": [],
   "source": [
    "del person['age']"
   ]
  },
  {
   "cell_type": "code",
   "execution_count": 90,
   "id": "bcc70b1b-03c2-46f4-bf03-146c170c6fb4",
   "metadata": {},
   "outputs": [
    {
     "data": {
      "text/plain": [
       "{'name': 'rani', 'grades': [30, 89, 56]}"
      ]
     },
     "execution_count": 90,
     "metadata": {},
     "output_type": "execute_result"
    }
   ],
   "source": [
    "person"
   ]
  },
  {
   "cell_type": "code",
   "execution_count": null,
   "id": "f5b70c56-d6d4-444c-a6da-3c002eacc5ca",
   "metadata": {},
   "outputs": [],
   "source": []
  },
  {
   "cell_type": "code",
   "execution_count": null,
   "id": "20972eda-64e3-4cd0-a4fb-e8165db10e1a",
   "metadata": {},
   "outputs": [],
   "source": []
  }
 ],
 "metadata": {
  "kernelspec": {
   "display_name": "Python 3 (ipykernel)",
   "language": "python",
   "name": "python3"
  },
  "language_info": {
   "codemirror_mode": {
    "name": "ipython",
    "version": 3
   },
   "file_extension": ".py",
   "mimetype": "text/x-python",
   "name": "python",
   "nbconvert_exporter": "python",
   "pygments_lexer": "ipython3",
   "version": "3.11.7"
  }
 },
 "nbformat": 4,
 "nbformat_minor": 5
}
